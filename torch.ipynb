{
 "cells": [
  {
   "cell_type": "code",
   "execution_count": 54,
   "id": "c29bfbc5-9c93-4738-a0ee-9bdbf2ce2fac",
   "metadata": {},
   "outputs": [],
   "source": [
    "import torch\n",
    "import tensorflow as tf\n",
    "import pandas as pd\n",
    "import jieba\n",
    "from tensorflow.keras.models import Sequential\n",
    "from tensorflow.keras.layers import Dense, Activation\n",
    "import matplotlib.pyplot as plt"
   ]
  },
  {
   "cell_type": "code",
   "execution_count": 55,
   "id": "b0736412-a291-4258-b164-9e09f2f73d64",
   "metadata": {},
   "outputs": [],
   "source": [
    "data = pd.read_csv('shijing.csv')"
   ]
  },
  {
   "cell_type": "code",
   "execution_count": 56,
   "id": "f378217c-ba05-477f-8bf1-82613a6f257a",
   "metadata": {},
   "outputs": [
    {
     "name": "stdout",
     "output_type": "stream",
     "text": [
      "  title chapter section                                            content\n",
      "0    关雎      国风      周南  [\"关关雎鸠，在河之洲。窈窕淑女，君子好逑。\",\"参差荇菜，左右流之。窈窕淑女，寤寐求之。\"...\n",
      "1    葛覃      国风      周南  [\"葛之覃兮，施于中谷，维叶萋萋。黄鸟于飞，集于灌木，其鸣喈喈。\",\"葛之覃兮，施于中谷，维...\n",
      "2    卷耳      国风      周南  [\"采采卷耳，不盈顷筐。嗟我怀人，置彼周行。\",\"陟彼崔嵬，我马虺隤。我姑酌彼金罍，维以不永...\n",
      "3    樛木      国风      周南  [\"南有樛木，葛藟累之。乐只君子，福履绥之。\",\"南有樛木，葛藟荒之。乐只君子，福履将之。\"...\n",
      "4    螽斯      国风      周南  [\"螽斯羽，诜诜兮。宜尔子孙，振振兮。\",\"螽斯羽，薨薨兮。宜尔子孙。绳绳兮。\",\"螽斯羽，...\n"
     ]
    }
   ],
   "source": [
    "print(data.head())"
   ]
  },
  {
   "cell_type": "code",
   "execution_count": 57,
   "id": "d9c83acc-6839-479f-a598-f3f6e1118699",
   "metadata": {},
   "outputs": [],
   "source": [
    "data = data.dropna() # 删除缺失值\n",
    "data[\"text_length\"] = data[\"content\"].apply(len) # 计算每条记录的文本长度\n",
    "data = data[data[\"text_length\"] > 10] # 删除文本长度小于等于10的记录"
   ]
  },
  {
   "cell_type": "code",
   "execution_count": 58,
   "id": "7ac44fc5-a92b-4abc-b6bc-2d27d42d2733",
   "metadata": {},
   "outputs": [
    {
     "name": "stderr",
     "output_type": "stream",
     "text": [
      "Building prefix dict from the default dictionary ...\n",
      "Dumping model to file cache /tmp/jieba.cache\n",
      "Loading model cost 0.804 seconds.\n",
      "Prefix dict has been built successfully.\n"
     ]
    },
    {
     "data": {
      "image/png": "[encoded data removed]",
      "text/plain": [
       "<Figure size 640x480 with 1 Axes>"
      ]
     },
     "metadata": {},
     "output_type": "display_data"
    }
   ],
   "source": [
    "# 文本分词\n",
    "data[\"text_cut\"] = data[\"content\"].apply(lambda x: \" \".join(jieba.cut(x, cut_all=True)))\n",
    "\n",
    "# 可视化呈现\n",
    "plt.hist(data[\"text_length\"], bins=50)\n",
    "plt.show()"
   ]
  },
  {
   "cell_type": "code",
   "execution_count": null,
   "id": "2fe71450-5ad8-4a4b-b85b-3f2f9d9d9ca8",
   "metadata": {},
   "outputs": [],
   "source": []
  }
 ],
 "metadata": {
  "kernelspec": {
   "display_name": "torch",
   "language": "python",
   "name": "torch"
  },
  "language_info": {
   "codemirror_mode": {
    "name": "ipython",
    "version": 3
   },
   "file_extension": ".py",
   "mimetype": "text/x-python",
   "name": "python",
   "nbconvert_exporter": "python",
   "pygments_lexer": "ipython3",
   "version": "3.8.16"
  }
 },
 "nbformat": 4,
 "nbformat_minor": 5
}
